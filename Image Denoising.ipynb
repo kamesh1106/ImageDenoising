{
  "nbformat": 4,
  "nbformat_minor": 0,
  "metadata": {
    "colab": {
      "name": "updated_new.ipynb",
      "provenance": []
    },
    "kernelspec": {
      "display_name": "Python 3",
      "language": "python",
      "name": "python3"
    },
    "language_info": {
      "codemirror_mode": {
        "name": "ipython",
        "version": 3
      },
      "file_extension": ".py",
      "mimetype": "text/x-python",
      "name": "python",
      "nbconvert_exporter": "python",
      "pygments_lexer": "ipython3",
      "version": "3.8.3"
    }
  },
  "cells": [
    {
      "cell_type": "markdown",
      "metadata": {
        "id": "GIWLPNZKsqPX",
        "colab_type": "text"
      },
      "source": [
        "## Importing Libraries and Datasets"
      ]
    },
    {
      "cell_type": "code",
      "metadata": {
        "colab_type": "code",
        "id": "9f8pEyhFlZNP",
        "colab": {
          "base_uri": "https://localhost:8080/",
          "height": 92
        },
        "outputId": "00b3e065-19ed-4b60-8c63-495c00c90190"
      },
      "source": [
        "import numpy as np\n",
        "import matplotlib.pyplot as plt\n",
        "import random\n",
        "import seaborn as sns\n",
        "\n",
        "from keras.layers import Input, Dense, Conv2D, MaxPooling2D, UpSampling2D\n",
        "from keras.models import Model\n",
        "from keras import regularizers\n",
        "from keras import backend as K\n",
        "from keras.datasets import mnist\n"
      ],
      "execution_count": 1,
      "outputs": [
        {
          "output_type": "stream",
          "text": [
            "/usr/local/lib/python3.6/dist-packages/statsmodels/tools/_testing.py:19: FutureWarning: pandas.util.testing is deprecated. Use the functions in the public API at pandas.testing instead.\n",
            "  import pandas.util.testing as tm\n",
            "Using TensorFlow backend.\n"
          ],
          "name": "stderr"
        }
      ]
    },
    {
      "cell_type": "code",
      "metadata": {
        "colab_type": "code",
        "id": "Vhee7wmtlvNu",
        "colab": {
          "base_uri": "https://localhost:8080/",
          "height": 53
        },
        "outputId": "43ac1dec-c917-4c5d-cc9e-76a5c6dfa316"
      },
      "source": [
        "# Load Dataset\n",
        "(x_train, y_train), (x_test, y_test) = mnist.load_data()"
      ],
      "execution_count": 2,
      "outputs": [
        {
          "output_type": "stream",
          "text": [
            "Downloading data from https://s3.amazonaws.com/img-datasets/mnist.npz\n",
            "11493376/11490434 [==============================] - 2s 0us/step\n"
          ],
          "name": "stdout"
        }
      ]
    },
    {
      "cell_type": "code",
      "metadata": {
        "colab_type": "code",
        "id": "VFeV-rbKW8wl",
        "scrolled": true,
        "colab": {
          "base_uri": "https://localhost:8080/",
          "height": 283
        },
        "outputId": "2680984b-d79c-45fb-92d6-d2ffcd711369"
      },
      "source": [
        "# Visualize a sample image\n",
        "plt.imshow(x_train[1], cmap = 'gray')"
      ],
      "execution_count": 3,
      "outputs": [
        {
          "output_type": "execute_result",
          "data": {
            "text/plain": [
              "<matplotlib.image.AxesImage at 0x7ff7853d7d68>"
            ]
          },
          "metadata": {
            "tags": []
          },
          "execution_count": 3
        },
        {
          "output_type": "display_data",
          "data": {
            "image/png": "[encoded data removed]",
            "text/plain": [
              "<Figure size 432x288 with 1 Axes>"
            ]
          },
          "metadata": {
            "tags": [],
            "needs_background": "light"
          }
        }
      ]
    },
    {
      "cell_type": "code",
      "metadata": {
        "id": "acYqTqmMsqQc",
        "colab_type": "code",
        "colab": {
          "base_uri": "https://localhost:8080/",
          "height": 35
        },
        "outputId": "e38eacf6-61d5-4a48-972b-679007368df0"
      },
      "source": [
        "# Check out the shape of the training data\n",
        "x_train.shape"
      ],
      "execution_count": 4,
      "outputs": [
        {
          "output_type": "execute_result",
          "data": {
            "text/plain": [
              "(60000, 28, 28)"
            ]
          },
          "metadata": {
            "tags": []
          },
          "execution_count": 4
        }
      ]
    },
    {
      "cell_type": "code",
      "metadata": {
        "id": "dkW0hlGBsqQn",
        "colab_type": "code",
        "colab": {
          "base_uri": "https://localhost:8080/",
          "height": 35
        },
        "outputId": "7acc2ab4-6a26-4c15-cb94-6e1f2bbb574b"
      },
      "source": [
        "# Check out the shape of the testing data\n",
        "x_test.shape"
      ],
      "execution_count": 5,
      "outputs": [
        {
          "output_type": "execute_result",
          "data": {
            "text/plain": [
              "(10000, 28, 28)"
            ]
          },
          "metadata": {
            "tags": []
          },
          "execution_count": 5
        }
      ]
    },
    {
      "cell_type": "code",
      "metadata": {
        "id": "OIGry8tjsqQ0",
        "colab_type": "code",
        "colab": {
          "base_uri": "https://localhost:8080/",
          "height": 35
        },
        "outputId": "ffbb216e-e417-4d73-bef8-04d518938390"
      },
      "source": [
        "y_train.shape"
      ],
      "execution_count": 6,
      "outputs": [
        {
          "output_type": "execute_result",
          "data": {
            "text/plain": [
              "(60000,)"
            ]
          },
          "metadata": {
            "tags": []
          },
          "execution_count": 6
        }
      ]
    },
    {
      "cell_type": "code",
      "metadata": {
        "id": "OKnwD-BUsqQ_",
        "colab_type": "code",
        "colab": {
          "base_uri": "https://localhost:8080/",
          "height": 35
        },
        "outputId": "b41c5922-b19b-4af7-8b69-d27b218f97ff"
      },
      "source": [
        "y_test.shape"
      ],
      "execution_count": 7,
      "outputs": [
        {
          "output_type": "execute_result",
          "data": {
            "text/plain": [
              "(10000,)"
            ]
          },
          "metadata": {
            "tags": []
          },
          "execution_count": 7
        }
      ]
    },
    {
      "cell_type": "markdown",
      "metadata": {
        "id": "GMQMPjzOsqRG",
        "colab_type": "text"
      },
      "source": [
        "## Perform Data Visualization"
      ]
    },
    {
      "cell_type": "code",
      "metadata": {
        "colab_type": "code",
        "id": "9bGFmcXyW8wv",
        "scrolled": true,
        "colab": {
          "base_uri": "https://localhost:8080/",
          "height": 283
        },
        "outputId": "70c037ad-ab9f-4297-d980-1da03f1e4f8c"
      },
      "source": [
        "# Viewing a random image\n",
        "r = random.randint(1, 60000)\n",
        "plt.imshow(x_train[r], cmap = 'gray')"
      ],
      "execution_count": 8,
      "outputs": [
        {
          "output_type": "execute_result",
          "data": {
            "text/plain": [
              "<matplotlib.image.AxesImage at 0x7ff784f2a7f0>"
            ]
          },
          "metadata": {
            "tags": []
          },
          "execution_count": 8
        },
        {
          "output_type": "display_data",
          "data": {
            "image/png": "[encoded data removed]",
            "text/plain": [
              "<Figure size 432x288 with 1 Axes>"
            ]
          },
          "metadata": {
            "tags": [],
            "needs_background": "light"
          }
        }
      ]
    },
    {
      "cell_type": "code",
      "metadata": {
        "colab_type": "code",
        "id": "NGjDJDFaW8w5",
        "colab": {
          "base_uri": "https://localhost:8080/",
          "height": 35
        },
        "outputId": "9c065e6e-1209-4b4e-ce3c-12d57d3793e2"
      },
      "source": [
        "# Printing the class of the random image\n",
        "label = y_train[r]\n",
        "print(label)"
      ],
      "execution_count": 9,
      "outputs": [
        {
          "output_type": "stream",
          "text": [
            "7\n"
          ],
          "name": "stdout"
        }
      ]
    },
    {
      "cell_type": "code",
      "metadata": {
        "colab_type": "code",
        "id": "lo-axVcAW8xN",
        "scrolled": true,
        "colab": {
          "base_uri": "https://localhost:8080/",
          "height": 319
        },
        "outputId": "cae26faa-4927-49e6-fe7a-c2ddd3290095"
      },
      "source": [
        "# Viewing some images in grid format\n",
        "# Defining Dimensions of the grid\n",
        "W_grid = 9\n",
        "L_grid = 9\n",
        "\n",
        "fig, axes = plt.subplots(L_grid, W_grid, figsize = (5, 5))\n",
        "\n",
        "axes = axes.ravel()    # Flatten the 10X10 grid into 100 array\n",
        "\n",
        "n_training = len(x_train)    # Length of the training dataset\n",
        "\n",
        "for i in np.arange(0, L_grid * W_grid):\n",
        "    index = np.random.randint(0, n_training)    # Select a random number from 0 to n_training\n",
        "    axes[i].imshow(x_train[index])\n",
        "    axes[i].set_title(y_train[index], fontsize = 12)\n",
        "    axes[i].axis('off')"
      ],
      "execution_count": 11,
      "outputs": [
        {
          "output_type": "display_data",
          "data": {
            "image/png": "[encoded data removed]",
            "text/plain": [
              "<Figure size 360x360 with 81 Axes>"
            ]
          },
          "metadata": {
            "tags": [],
            "needs_background": "light"
          }
        }
      ]
    },
    {
      "cell_type": "markdown",
      "metadata": {
        "id": "8ZuT04qFsqR3",
        "colab_type": "text"
      },
      "source": [
        "## Data Preprocessing"
      ]
    },
    {
      "cell_type": "code",
      "metadata": {
        "colab_type": "code",
        "id": "HgQC1Okvl19h",
        "colab": {
          "base_uri": "https://localhost:8080/",
          "height": 53
        },
        "outputId": "dba5cbf4-263b-4114-9730-2d83cd8d57c1"
      },
      "source": [
        "# Normalize the data\n",
        "x_train = x_train.astype('float32') / 255.\n",
        "x_test = x_test.astype('float32') / 255.\n",
        "x_train = np.reshape(x_train, (len(x_train), 28, 28, 1))\n",
        "x_test = np.reshape(x_test, (len(x_test), 28, 28, 1))\n",
        "print(x_train.shape)\n",
        "print(x_test.shape)"
      ],
      "execution_count": 12,
      "outputs": [
        {
          "output_type": "stream",
          "text": [
            "(60000, 28, 28, 1)\n",
            "(10000, 28, 28, 1)\n"
          ],
          "name": "stdout"
        }
      ]
    },
    {
      "cell_type": "code",
      "metadata": {
        "colab_type": "code",
        "id": "BfuWW0nIW8xn",
        "colab": {}
      },
      "source": [
        "# Add some noice to training and testing datasets\n",
        "noise_factor = 0.5\n",
        "x_train_noisy = x_train + noise_factor * np.random.normal(loc=0.0, scale=1.0, size=x_train.shape) \n",
        "x_test_noisy = x_test + noise_factor * np.random.normal(loc=0.0, scale=1.0, size=x_test.shape) \n",
        "\n",
        "x_train_noisy = np.clip(x_train_noisy, 0., 1.)\n",
        "x_test_noisy = np.clip(x_test_noisy, 0., 1.)"
      ],
      "execution_count": 13,
      "outputs": []
    },
    {
      "cell_type": "code",
      "metadata": {
        "id": "B-uSPRNSsqSJ",
        "colab_type": "code",
        "colab": {
          "base_uri": "https://localhost:8080/",
          "height": 283
        },
        "outputId": "b2696314-c1f8-4f8f-fa51-cb0b9f1f7bef"
      },
      "source": [
        "# Plotting a random image for added noise in training dataset\n",
        "plt.imshow(x_train_noisy[22].reshape(28, 28), cmap = 'gray')"
      ],
      "execution_count": 14,
      "outputs": [
        {
          "output_type": "execute_result",
          "data": {
            "text/plain": [
              "<matplotlib.image.AxesImage at 0x7ff783a712b0>"
            ]
          },
          "metadata": {
            "tags": []
          },
          "execution_count": 14
        },
        {
          "output_type": "display_data",
          "data": {
            "image/png": "[encoded data removed]",
            "text/plain": [
              "<Figure size 432x288 with 1 Axes>"
            ]
          },
          "metadata": {
            "tags": [],
            "needs_background": "light"
          }
        }
      ]
    },
    {
      "cell_type": "code",
      "metadata": {
        "id": "b4DAv52YsqST",
        "colab_type": "code",
        "colab": {
          "base_uri": "https://localhost:8080/",
          "height": 283
        },
        "outputId": "a5f1b453-ba42-4b2e-b54c-4261fb04ed2a"
      },
      "source": [
        "# Plotting a random image for added noise in testing dataset\n",
        "plt.imshow(x_test_noisy[234].reshape(28, 28), cmap = 'gray')"
      ],
      "execution_count": 15,
      "outputs": [
        {
          "output_type": "execute_result",
          "data": {
            "text/plain": [
              "<matplotlib.image.AxesImage at 0x7ff7822332e8>"
            ]
          },
          "metadata": {
            "tags": []
          },
          "execution_count": 15
        },
        {
          "output_type": "display_data",
          "data": {
            "image/png": "[encoded data removed]",
            "text/plain": [
              "<Figure size 432x288 with 1 Axes>"
            ]
          },
          "metadata": {
            "tags": [],
            "needs_background": "light"
          }
        }
      ]
    },
    {
      "cell_type": "code",
      "metadata": {
        "colab_type": "code",
        "id": "-mELSbUxW8x0",
        "scrolled": true,
        "colab": {
          "base_uri": "https://localhost:8080/",
          "height": 129
        },
        "outputId": "7fc4ca03-d028-49ac-9523-704cac79fac8"
      },
      "source": [
        "n = 10\n",
        "plt.figure(figsize=(20, 2))\n",
        "for i in range(1, n):\n",
        "    ax = plt.subplot(1, n, i)\n",
        "    plt.imshow(x_test_noisy[i].reshape(28, 28))\n",
        "    plt.gray()\n",
        "    ax.get_xaxis().set_visible(False)\n",
        "    ax.get_yaxis().set_visible(False)\n",
        "plt.show()"
      ],
      "execution_count": 16,
      "outputs": [
        {
          "output_type": "display_data",
          "data": {
            "image/png": "[encoded data removed]",
            "text/plain": [
              "<Figure size 1440x144 with 9 Axes>"
            ]
          },
          "metadata": {
            "tags": [],
            "needs_background": "light"
          }
        }
      ]
    },
    {
      "cell_type": "markdown",
      "metadata": {
        "id": "ujmXzzk0sqSj",
        "colab_type": "text"
      },
      "source": [
        "## Build and Train Autoencoder Deep Learning Mode"
      ]
    },
    {
      "cell_type": "code",
      "metadata": {
        "colab_type": "code",
        "id": "7Z0lj3ngW8x9",
        "colab": {}
      },
      "source": [
        "input_img = Input(shape=(28, 28, 1))\n",
        "\n",
        "# Encoder\n",
        "x = Conv2D(32, (3, 3), activation='relu', padding='same')(input_img)\n",
        "x = MaxPooling2D((2, 2), padding='same')(x)\n",
        "x = Conv2D(32, (3, 3), activation='relu', padding='same')(x)\n",
        "encoded = MaxPooling2D((2, 2), padding='same')(x)\n",
        "\n",
        "# at this point the representation is (7, 7, 32)\n",
        "\n",
        "# Decoder\n",
        "x = Conv2D(32, (3, 3), activation='relu', padding='same')(encoded)\n",
        "x = UpSampling2D((2, 2))(x)\n",
        "x = Conv2D(32, (3, 3), activation='relu', padding='same')(x)\n",
        "x = UpSampling2D((2, 2))(x)\n",
        "decoded = Conv2D(1, (3, 3), activation='sigmoid', padding='same')(x)\n",
        "\n",
        "# Autoencoder\n",
        "autoencoder = Model(input_img, decoded)\n",
        "autoencoder.compile(optimizer='adadelta', loss='binary_crossentropy', metrics=['accuracy'])"
      ],
      "execution_count": 17,
      "outputs": []
    },
    {
      "cell_type": "code",
      "metadata": {
        "id": "IRjqVs1dsqSr",
        "colab_type": "code",
        "colab": {
          "base_uri": "https://localhost:8080/",
          "height": 526
        },
        "outputId": "7abcc720-2a07-4b92-c554-d8fb06c4bbc2"
      },
      "source": [
        "autoencoder.summary()"
      ],
      "execution_count": 18,
      "outputs": [
        {
          "output_type": "stream",
          "text": [
            "Model: \"model_1\"\n",
            "_________________________________________________________________\n",
            "Layer (type)                 Output Shape              Param #   \n",
            "=================================================================\n",
            "input_1 (InputLayer)         (None, 28, 28, 1)         0         \n",
            "_________________________________________________________________\n",
            "conv2d_1 (Conv2D)            (None, 28, 28, 32)        320       \n",
            "_________________________________________________________________\n",
            "max_pooling2d_1 (MaxPooling2 (None, 14, 14, 32)        0         \n",
            "_________________________________________________________________\n",
            "conv2d_2 (Conv2D)            (None, 14, 14, 32)        9248      \n",
            "_________________________________________________________________\n",
            "max_pooling2d_2 (MaxPooling2 (None, 7, 7, 32)          0         \n",
            "_________________________________________________________________\n",
            "conv2d_3 (Conv2D)            (None, 7, 7, 32)          9248      \n",
            "_________________________________________________________________\n",
            "up_sampling2d_1 (UpSampling2 (None, 14, 14, 32)        0         \n",
            "_________________________________________________________________\n",
            "conv2d_4 (Conv2D)            (None, 14, 14, 32)        9248      \n",
            "_________________________________________________________________\n",
            "up_sampling2d_2 (UpSampling2 (None, 28, 28, 32)        0         \n",
            "_________________________________________________________________\n",
            "conv2d_5 (Conv2D)            (None, 28, 28, 1)         289       \n",
            "=================================================================\n",
            "Total params: 28,353\n",
            "Trainable params: 28,353\n",
            "Non-trainable params: 0\n",
            "_________________________________________________________________\n"
          ],
          "name": "stdout"
        }
      ]
    },
    {
      "cell_type": "code",
      "metadata": {
        "colab_type": "code",
        "id": "U8otvyJSl3sH",
        "colab": {
          "base_uri": "https://localhost:8080/",
          "height": 1000
        },
        "outputId": "be801293-555b-4bb7-8cf5-7e4e2edbd212"
      },
      "source": [
        "autoencoder.fit(x_train_noisy, x_train,\n",
        "                epochs=50,\n",
        "                batch_size=128,\n",
        "                shuffle=True,\n",
        "                validation_data=(x_test_noisy, x_test))"
      ],
      "execution_count": 19,
      "outputs": [
        {
          "output_type": "stream",
          "text": [
            "Train on 60000 samples, validate on 10000 samples\n",
            "Epoch 1/50\n",
            "60000/60000 [==============================] - 161s 3ms/step - loss: 0.1759 - accuracy: 0.8034 - val_loss: 0.1299 - val_accuracy: 0.8018\n",
            "Epoch 2/50\n",
            "60000/60000 [==============================] - 159s 3ms/step - loss: 0.1201 - accuracy: 0.8096 - val_loss: 0.1179 - val_accuracy: 0.8120\n",
            "Epoch 3/50\n",
            "60000/60000 [==============================] - 159s 3ms/step - loss: 0.1119 - accuracy: 0.8111 - val_loss: 0.1078 - val_accuracy: 0.8118\n",
            "Epoch 4/50\n",
            "60000/60000 [==============================] - 158s 3ms/step - loss: 0.1082 - accuracy: 0.8118 - val_loss: 0.1077 - val_accuracy: 0.8123\n",
            "Epoch 5/50\n",
            "60000/60000 [==============================] - 158s 3ms/step - loss: 0.1059 - accuracy: 0.8122 - val_loss: 0.1033 - val_accuracy: 0.8108\n",
            "Epoch 6/50\n",
            "60000/60000 [==============================] - 158s 3ms/step - loss: 0.1043 - accuracy: 0.8124 - val_loss: 0.1021 - val_accuracy: 0.8122\n",
            "Epoch 7/50\n",
            "60000/60000 [==============================] - 158s 3ms/step - loss: 0.1033 - accuracy: 0.8126 - val_loss: 0.1007 - val_accuracy: 0.8116\n",
            "Epoch 8/50\n",
            "60000/60000 [==============================] - 160s 3ms/step - loss: 0.1023 - accuracy: 0.8127 - val_loss: 0.1002 - val_accuracy: 0.8116\n",
            "Epoch 9/50\n",
            "60000/60000 [==============================] - 158s 3ms/step - loss: 0.1015 - accuracy: 0.8128 - val_loss: 0.1001 - val_accuracy: 0.8114\n",
            "Epoch 10/50\n",
            "60000/60000 [==============================] - 158s 3ms/step - loss: 0.1010 - accuracy: 0.8129 - val_loss: 0.1011 - val_accuracy: 0.8108\n",
            "Epoch 11/50\n",
            "60000/60000 [==============================] - 160s 3ms/step - loss: 0.1006 - accuracy: 0.8129 - val_loss: 0.1001 - val_accuracy: 0.8126\n",
            "Epoch 12/50\n",
            "60000/60000 [==============================] - 160s 3ms/step - loss: 0.1001 - accuracy: 0.8130 - val_loss: 0.0994 - val_accuracy: 0.8126\n",
            "Epoch 13/50\n",
            "60000/60000 [==============================] - 160s 3ms/step - loss: 0.0997 - accuracy: 0.8131 - val_loss: 0.0988 - val_accuracy: 0.8116\n",
            "Epoch 14/50\n",
            "60000/60000 [==============================] - 160s 3ms/step - loss: 0.0995 - accuracy: 0.8131 - val_loss: 0.0992 - val_accuracy: 0.8127\n",
            "Epoch 15/50\n",
            "60000/60000 [==============================] - 159s 3ms/step - loss: 0.0993 - accuracy: 0.8131 - val_loss: 0.0989 - val_accuracy: 0.8114\n",
            "Epoch 16/50\n",
            "60000/60000 [==============================] - 160s 3ms/step - loss: 0.0990 - accuracy: 0.8131 - val_loss: 0.0982 - val_accuracy: 0.8126\n",
            "Epoch 17/50\n",
            "60000/60000 [==============================] - 159s 3ms/step - loss: 0.0987 - accuracy: 0.8132 - val_loss: 0.0973 - val_accuracy: 0.8122\n",
            "Epoch 18/50\n",
            "60000/60000 [==============================] - 158s 3ms/step - loss: 0.0983 - accuracy: 0.8132 - val_loss: 0.0971 - val_accuracy: 0.8124\n",
            "Epoch 19/50\n",
            "60000/60000 [==============================] - 158s 3ms/step - loss: 0.0983 - accuracy: 0.8132 - val_loss: 0.0972 - val_accuracy: 0.8125\n",
            "Epoch 20/50\n",
            "60000/60000 [==============================] - 158s 3ms/step - loss: 0.0980 - accuracy: 0.8133 - val_loss: 0.0973 - val_accuracy: 0.8119\n",
            "Epoch 21/50\n",
            "60000/60000 [==============================] - 158s 3ms/step - loss: 0.0979 - accuracy: 0.8133 - val_loss: 0.0970 - val_accuracy: 0.8126\n",
            "Epoch 22/50\n",
            "60000/60000 [==============================] - 159s 3ms/step - loss: 0.0978 - accuracy: 0.8133 - val_loss: 0.0970 - val_accuracy: 0.8119\n",
            "Epoch 23/50\n",
            "60000/60000 [==============================] - 159s 3ms/step - loss: 0.0976 - accuracy: 0.8133 - val_loss: 0.0986 - val_accuracy: 0.8130\n",
            "Epoch 24/50\n",
            "60000/60000 [==============================] - 162s 3ms/step - loss: 0.0974 - accuracy: 0.8133 - val_loss: 0.0972 - val_accuracy: 0.8128\n",
            "Epoch 25/50\n",
            "60000/60000 [==============================] - 159s 3ms/step - loss: 0.0973 - accuracy: 0.8133 - val_loss: 0.0963 - val_accuracy: 0.8125\n",
            "Epoch 26/50\n",
            "60000/60000 [==============================] - 159s 3ms/step - loss: 0.0972 - accuracy: 0.8134 - val_loss: 0.0961 - val_accuracy: 0.8124\n",
            "Epoch 27/50\n",
            "60000/60000 [==============================] - 158s 3ms/step - loss: 0.0970 - accuracy: 0.8134 - val_loss: 0.0961 - val_accuracy: 0.8123\n",
            "Epoch 28/50\n",
            "60000/60000 [==============================] - 158s 3ms/step - loss: 0.0969 - accuracy: 0.8134 - val_loss: 0.0972 - val_accuracy: 0.8117\n",
            "Epoch 29/50\n",
            "60000/60000 [==============================] - 157s 3ms/step - loss: 0.0968 - accuracy: 0.8134 - val_loss: 0.0959 - val_accuracy: 0.8122\n",
            "Epoch 30/50\n",
            "60000/60000 [==============================] - 159s 3ms/step - loss: 0.0968 - accuracy: 0.8134 - val_loss: 0.0969 - val_accuracy: 0.8117\n",
            "Epoch 31/50\n",
            "60000/60000 [==============================] - 160s 3ms/step - loss: 0.0966 - accuracy: 0.8134 - val_loss: 0.0965 - val_accuracy: 0.8118\n",
            "Epoch 32/50\n",
            "60000/60000 [==============================] - 161s 3ms/step - loss: 0.0965 - accuracy: 0.8134 - val_loss: 0.0967 - val_accuracy: 0.8118\n",
            "Epoch 33/50\n",
            "60000/60000 [==============================] - 160s 3ms/step - loss: 0.0964 - accuracy: 0.8134 - val_loss: 0.0955 - val_accuracy: 0.8125\n",
            "Epoch 34/50\n",
            "60000/60000 [==============================] - 161s 3ms/step - loss: 0.0963 - accuracy: 0.8134 - val_loss: 0.0955 - val_accuracy: 0.8124\n",
            "Epoch 35/50\n",
            "60000/60000 [==============================] - 161s 3ms/step - loss: 0.0963 - accuracy: 0.8135 - val_loss: 0.0961 - val_accuracy: 0.8128\n",
            "Epoch 36/50\n",
            "60000/60000 [==============================] - 162s 3ms/step - loss: 0.0962 - accuracy: 0.8135 - val_loss: 0.0952 - val_accuracy: 0.8126\n",
            "Epoch 37/50\n",
            "60000/60000 [==============================] - 163s 3ms/step - loss: 0.0961 - accuracy: 0.8135 - val_loss: 0.0955 - val_accuracy: 0.8127\n",
            "Epoch 38/50\n",
            "60000/60000 [==============================] - 163s 3ms/step - loss: 0.0959 - accuracy: 0.8135 - val_loss: 0.0958 - val_accuracy: 0.8128\n",
            "Epoch 39/50\n",
            "60000/60000 [==============================] - 161s 3ms/step - loss: 0.0959 - accuracy: 0.8135 - val_loss: 0.0960 - val_accuracy: 0.8128\n",
            "Epoch 40/50\n",
            "60000/60000 [==============================] - 161s 3ms/step - loss: 0.0959 - accuracy: 0.8135 - val_loss: 0.0950 - val_accuracy: 0.8126\n",
            "Epoch 41/50\n",
            "60000/60000 [==============================] - 161s 3ms/step - loss: 0.0958 - accuracy: 0.8135 - val_loss: 0.0954 - val_accuracy: 0.8128\n",
            "Epoch 42/50\n",
            "60000/60000 [==============================] - 160s 3ms/step - loss: 0.0957 - accuracy: 0.8135 - val_loss: 0.0951 - val_accuracy: 0.8123\n",
            "Epoch 43/50\n",
            "60000/60000 [==============================] - 160s 3ms/step - loss: 0.0957 - accuracy: 0.8135 - val_loss: 0.0960 - val_accuracy: 0.8119\n",
            "Epoch 44/50\n",
            "60000/60000 [==============================] - 159s 3ms/step - loss: 0.0957 - accuracy: 0.8135 - val_loss: 0.0953 - val_accuracy: 0.8128\n",
            "Epoch 45/50\n",
            "60000/60000 [==============================] - 160s 3ms/step - loss: 0.0955 - accuracy: 0.8135 - val_loss: 0.0948 - val_accuracy: 0.8124\n",
            "Epoch 46/50\n",
            "60000/60000 [==============================] - 159s 3ms/step - loss: 0.0955 - accuracy: 0.8135 - val_loss: 0.0956 - val_accuracy: 0.8129\n",
            "Epoch 47/50\n",
            "60000/60000 [==============================] - 160s 3ms/step - loss: 0.0956 - accuracy: 0.8135 - val_loss: 0.0954 - val_accuracy: 0.8121\n",
            "Epoch 48/50\n",
            "60000/60000 [==============================] - 159s 3ms/step - loss: 0.0954 - accuracy: 0.8135 - val_loss: 0.0958 - val_accuracy: 0.8130\n",
            "Epoch 49/50\n",
            "60000/60000 [==============================] - 160s 3ms/step - loss: 0.0954 - accuracy: 0.8135 - val_loss: 0.0953 - val_accuracy: 0.8129\n",
            "Epoch 50/50\n",
            "60000/60000 [==============================] - 160s 3ms/step - loss: 0.0953 - accuracy: 0.8136 - val_loss: 0.0956 - val_accuracy: 0.8129\n"
          ],
          "name": "stdout"
        },
        {
          "output_type": "execute_result",
          "data": {
            "text/plain": [
              "<keras.callbacks.callbacks.History at 0x7ff785392438>"
            ]
          },
          "metadata": {
            "tags": []
          },
          "execution_count": 19
        }
      ]
    },
    {
      "cell_type": "markdown",
      "metadata": {
        "id": "Pzv-bhbosqS3",
        "colab_type": "text"
      },
      "source": [
        "## Evaluate Trained model Performance"
      ]
    },
    {
      "cell_type": "code",
      "metadata": {
        "colab_type": "code",
        "id": "3rxYTsznl-nQ",
        "colab": {
          "base_uri": "https://localhost:8080/",
          "height": 53
        },
        "outputId": "e84fa7a7-a0e6-43b0-a577-d68735507dfb"
      },
      "source": [
        "evaluation = autoencoder.evaluate(x_test_noisy.reshape(-1, 28, 28, 1), x_test.reshape(-1, 28, 28, 1))\n",
        "print(evaluation)"
      ],
      "execution_count": 20,
      "outputs": [
        {
          "output_type": "stream",
          "text": [
            "10000/10000 [==============================] - 7s 689us/step\n",
            "[0.09562280176877976, 0.8129435181617737]\n"
          ],
          "name": "stdout"
        }
      ]
    },
    {
      "cell_type": "code",
      "metadata": {
        "id": "LmMjfqthsqS9",
        "colab_type": "code",
        "colab": {}
      },
      "source": [
        "decoded_imgs = autoencoder.predict(x_test)"
      ],
      "execution_count": 21,
      "outputs": []
    },
    {
      "cell_type": "code",
      "metadata": {
        "colab_type": "code",
        "id": "fopA-fVamUSR",
        "colab": {
          "base_uri": "https://localhost:8080/",
          "height": 248
        },
        "outputId": "9c7336c8-ff0b-4e51-a653-336ecfd4f564"
      },
      "source": [
        "n = 10\n",
        "plt.figure(figsize=(20, 4))\n",
        "for i in range(1, n):\n",
        "    # display original\n",
        "    ax = plt.subplot(2, n, i)\n",
        "    plt.imshow(x_test[i].reshape(28, 28))\n",
        "    plt.gray()\n",
        "    ax.get_xaxis().set_visible(False)\n",
        "    ax.get_yaxis().set_visible(False)\n",
        "\n",
        "    # display reconstruction\n",
        "    ax = plt.subplot(2, n, i + n)\n",
        "    plt.imshow(decoded_imgs[i].reshape(28, 28))\n",
        "    plt.gray()\n",
        "    ax.get_xaxis().set_visible(False)\n",
        "    ax.get_yaxis().set_visible(False)\n",
        "plt.show()"
      ],
      "execution_count": 22,
      "outputs": [
        {
          "output_type": "display_data",
          "data": {
            "image/png": "[encoded data removed]",
            "text/plain": [
              "<Figure size 1440x288 with 18 Axes>"
            ]
          },
          "metadata": {
            "tags": [],
            "needs_background": "light"
          }
        }
      ]
    },
    {
      "cell_type": "code",
      "metadata": {
        "id": "GmUEjjqPRI6E",
        "colab_type": "code",
        "colab": {}
      },
      "source": [
        ""
      ],
      "execution_count": null,
      "outputs": []
    }
  ]
}